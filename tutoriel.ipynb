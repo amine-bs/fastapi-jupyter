{
 "cells": [
  {
   "cell_type": "markdown",
   "id": "922d034c-e050-44e4-843d-3ffdd82815f2",
   "metadata": {},
   "source": [
    "# FastAPI\n",
    "\n",
    "Dans ce tutoriel, on explore le développement d'une API en utilisant FastAPI afin de déployer un modèle de classification d'images.\n",
    "\n",
    "FastAPI est un framework qui sert à développer des API REST en Python. Il autorise la programmation asynchrone.\n",
    "\n",
    "On commence notre code par importer la classe ``fastapi.FastAPI`` et définir notre application comme une instance de cette classe.\n",
    "\n",
    "Deux notions importantes qui permettent à FastAPI de traiter les requêtes sont: le chemin et l'opération. \n",
    "- Le chemin fait référence à la dernière partie de l'URL à partir du premier \"/\". Par exemple, dans l'URL \"https://www.sspcloud.fr/formation\", le chemin est ```/formation```.\n",
    "\n",
    "- l'opération est une méthode HTTP: POST (création de données), GET (lecture), PUT (modifier), DELETE (supprimer)...\n",
    "\n",
    "Dans le protocole HTTP, on communique avec chaque chemin en utilisant une ou plusieurs de ces opérations. Ainsi, dans notre API, on va définir un path et une opération pour chaque fonction qu'on va proposer.\n",
    "\n",
    "Pour ce faire, on précède chaque fonction par l'expression suivante: ```@app_name.operation(path)```.\n",
    "\n",
    "- Dans le code suivant, la fonction **root** sert comme un accueil pour l'API et elle retourne un message d'accueil. Elle est précédée par ```@app.get('/')```. Cette expression indique à FastAPI que la fonction \"root\" est chargée des requêtes qui vont au chemin \"/\", en utilisant l'opération \"get\".\n",
    "\n",
    "- La fonction **predict** prend en entrée un fichier image et donne en retour la classe de l'image ainsi que la probabilité de la prédiction. On utilise la syntaxe ``async`` et ``await`` pour qu'elle soit asynchrone. Cela indique à Python d'éxecuter d'autres tâches en attendant que les données soient envoyées du client au serveur à travers le réseau. Cette méthode permet au serveur d'optimiser son temps de réponse.\n",
    "\n",
    "- On définit également une fonction **details** sur le chemin ``/model/{info}`` et en utilisant l'opération ``get`` pour afficher des informations sur le modèle. Le paramètre ``info`` est appelé paramètre de chemin et il est à préciser par le client dans sa requête. Par exemple, le chemin ``/model/accuracy`` retourne la précision du modèle. \n",
    "On ajoute aussi un paramètre de requête appelé ``n``. Ce paramètre est un entier qui permet de préciser le nombre de chiffres après la virgule dans la précision. On définit ce paramètre dans la requête comme dans l'exemple suivant: ``model/accuracy?n=1``. Si n n'est pas de type entier, le serveur nous affichera un erreur.  \n",
    "\n",
    "Le notebook ``examples.ipynb`` montre les résultats de quelques requêtes."
   ]
  },
  {
   "cell_type": "code",
   "execution_count": null,
   "id": "c8be7a35-f4b6-439d-a397-9093d6a88aa2",
   "metadata": {},
   "outputs": [],
   "source": [
    "#install dependencies\n",
    "!pip install fastapi\n",
    "!pip install uvicorn\n",
    "!pip install python-multipart\n",
    "!pip install boto3"
   ]
  },
  {
   "cell_type": "code",
   "execution_count": 14,
   "id": "ad99e0eb-e425-4168-9922-5673acb73094",
   "metadata": {},
   "outputs": [],
   "source": [
    "from io import BytesIO\n",
    "from fastapi import FastAPI, File, UploadFile\n",
    "from utils import load_device, import_model, predict, is_image_file\n",
    "from PIL import Image\n",
    "\n",
    " \n",
    "app = FastAPI()\n",
    "\n",
    "def read_image(file):\n",
    "    img = Image.open(BytesIO(file))\n",
    "    return img\n",
    "\n",
    "device = load_device()\n",
    "model = import_model(bucket=\"mbenxsalha\", key=\"diffusion/state_dict.pickle\", device=device)\n",
    "\n",
    "#url: localhost:8000\n",
    "@app.get(\"/\")\n",
    "def root():\n",
    "    return {\"message\": \"Welcome to Image Classification FastAPI\"}\n",
    "\n",
    "#url: localhost: localhost:8000/model\n",
    "@app.get(\"/model/{info}\")\n",
    "def details(info:str, n:int=2):\n",
    "    accuracy = 99.2511111\n",
    "    if info == 'model':\n",
    "        return {'model': 'ResNet18'}\n",
    "    elif info == 'dataset':\n",
    "        return {'dataset url': \"https://www.kaggle.com/datasets/rhammell/ships-in-satellite-imagery\"}\n",
    "    elif info == 'accuracy':\n",
    "        formatted_accuracy = int((10**n)*accuracy)/(10**n)\n",
    "        return {'accuracy': '{}'.format(formatted_accuracy)}\n",
    "    else:    \n",
    "        return '{} is not available'.format(info)\n",
    "\n",
    "#url: localhost:8000/predict\n",
    "@app.post(\"/predict\")\n",
    "async def predict_api(file: UploadFile = File(...)):\n",
    "    if not is_image_file(file.filename):\n",
    "        return \"file must have image format\"\n",
    "    img = read_image(await file.read())\n",
    "    preds = predict(img, model, device)\n",
    "    return preds\n",
    "\n",
    "\n",
    "\n"
   ]
  },
  {
   "cell_type": "markdown",
   "id": "d3f4b1b9-5d23-4bc8-b3b1-1db1ea5e7a01",
   "metadata": {},
   "source": [
    "**Pour lancer l'API, on utilise \"uvicorn\" qui permet d'exécuter un code asynchrone sur Python.**\n",
    "Dans le code suivant, ``main`` fait référence au fichier main.py qui contient le même code que la cellule précédente.\n",
    "\n",
    "La tag ``--reload`` permet de relancer l'API automatiquement si le code est modifié."
   ]
  },
  {
   "cell_type": "code",
   "execution_count": 16,
   "id": "60e87c16-5697-4cb6-bd4a-e7cff48e8bde",
   "metadata": {},
   "outputs": [
    {
     "name": "stdout",
     "output_type": "stream",
     "text": [
      "\u001b[32mINFO\u001b[0m:     Will watch for changes in these directories: ['/home/onyxia/work']\n",
      "\u001b[32mINFO\u001b[0m:     Uvicorn running on \u001b[1mhttp://127.0.0.1:8000\u001b[0m (Press CTRL+C to quit)\n",
      "\u001b[32mINFO\u001b[0m:     Started reloader process [\u001b[36m\u001b[1m415\u001b[0m] using \u001b[36m\u001b[1mStatReload\u001b[0m\n",
      "\u001b[32mINFO\u001b[0m:     Started server process [\u001b[36m417\u001b[0m]\n",
      "\u001b[32mINFO\u001b[0m:     Waiting for application startup.\n",
      "\u001b[32mINFO\u001b[0m:     Application startup complete.\n",
      "^C\n",
      "\u001b[32mINFO\u001b[0m:     Shutting down\n",
      "\u001b[32mINFO\u001b[0m:     Waiting for application shutdown.\n",
      "\u001b[32mINFO\u001b[0m:     Application shutdown complete.\n",
      "\u001b[32mINFO\u001b[0m:     Finished server process [\u001b[36m417\u001b[0m]\n"
     ]
    }
   ],
   "source": [
    "!uvicorn main:app --reload"
   ]
  }
 ],
 "metadata": {
  "kernelspec": {
   "display_name": "Python 3.9.4 64-bit",
   "language": "python",
   "name": "python3"
  },
  "language_info": {
   "codemirror_mode": {
    "name": "ipython",
    "version": 3
   },
   "file_extension": ".py",
   "mimetype": "text/x-python",
   "name": "python",
   "nbconvert_exporter": "python",
   "pygments_lexer": "ipython3",
   "version": "3.9.4"
  },
  "vscode": {
   "interpreter": {
    "hash": "d9542dd7b953ad8a15b001f77d82648cfda59701cf2c2b565b7c59e3c6c6ed16"
   }
  }
 },
 "nbformat": 4,
 "nbformat_minor": 5
}
